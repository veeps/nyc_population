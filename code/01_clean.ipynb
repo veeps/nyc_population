{
 "cells": [
  {
   "cell_type": "markdown",
   "metadata": {},
   "source": [
    "# Data Processing"
   ]
  },
  {
   "cell_type": "markdown",
   "metadata": {},
   "source": [
    "Full data dictionary available [here](https://www2.census.gov/programs-surveys/popest/technical-documentation/file-layouts/2010-2018/cc-est2018-alldata.pdf)"
   ]
  },
  {
   "cell_type": "code",
   "execution_count": 52,
   "metadata": {},
   "outputs": [],
   "source": [
    "import pandas as pd\n",
    "import numpy as np"
   ]
  },
  {
   "cell_type": "markdown",
   "metadata": {},
   "source": [
    "### Read in data"
   ]
  },
  {
   "cell_type": "code",
   "execution_count": 136,
   "metadata": {},
   "outputs": [],
   "source": [
    "df = pd.read_csv(\"../data/cc-est2018-alldata-36.csv\")"
   ]
  },
  {
   "cell_type": "code",
   "execution_count": 137,
   "metadata": {},
   "outputs": [
    {
     "data": {
      "text/html": [
       "<div>\n",
       "<style scoped>\n",
       "    .dataframe tbody tr th:only-of-type {\n",
       "        vertical-align: middle;\n",
       "    }\n",
       "\n",
       "    .dataframe tbody tr th {\n",
       "        vertical-align: top;\n",
       "    }\n",
       "\n",
       "    .dataframe thead th {\n",
       "        text-align: right;\n",
       "    }\n",
       "</style>\n",
       "<table border=\"1\" class=\"dataframe\">\n",
       "  <thead>\n",
       "    <tr style=\"text-align: right;\">\n",
       "      <th></th>\n",
       "      <th>SUMLEV</th>\n",
       "      <th>STATE</th>\n",
       "      <th>COUNTY</th>\n",
       "      <th>STNAME</th>\n",
       "      <th>CTYNAME</th>\n",
       "      <th>YEAR</th>\n",
       "      <th>AGEGRP</th>\n",
       "      <th>TOT_POP</th>\n",
       "      <th>TOT_MALE</th>\n",
       "      <th>TOT_FEMALE</th>\n",
       "      <th>...</th>\n",
       "      <th>HWAC_MALE</th>\n",
       "      <th>HWAC_FEMALE</th>\n",
       "      <th>HBAC_MALE</th>\n",
       "      <th>HBAC_FEMALE</th>\n",
       "      <th>HIAC_MALE</th>\n",
       "      <th>HIAC_FEMALE</th>\n",
       "      <th>HAAC_MALE</th>\n",
       "      <th>HAAC_FEMALE</th>\n",
       "      <th>HNAC_MALE</th>\n",
       "      <th>HNAC_FEMALE</th>\n",
       "    </tr>\n",
       "  </thead>\n",
       "  <tbody>\n",
       "    <tr>\n",
       "      <th>0</th>\n",
       "      <td>50</td>\n",
       "      <td>36</td>\n",
       "      <td>1</td>\n",
       "      <td>New York</td>\n",
       "      <td>Albany County</td>\n",
       "      <td>1</td>\n",
       "      <td>0</td>\n",
       "      <td>304204</td>\n",
       "      <td>147076</td>\n",
       "      <td>157128</td>\n",
       "      <td>...</td>\n",
       "      <td>5236</td>\n",
       "      <td>5416</td>\n",
       "      <td>2125</td>\n",
       "      <td>2295</td>\n",
       "      <td>361</td>\n",
       "      <td>410</td>\n",
       "      <td>139</td>\n",
       "      <td>141</td>\n",
       "      <td>41</td>\n",
       "      <td>41</td>\n",
       "    </tr>\n",
       "    <tr>\n",
       "      <th>1</th>\n",
       "      <td>50</td>\n",
       "      <td>36</td>\n",
       "      <td>1</td>\n",
       "      <td>New York</td>\n",
       "      <td>Albany County</td>\n",
       "      <td>1</td>\n",
       "      <td>1</td>\n",
       "      <td>15286</td>\n",
       "      <td>7821</td>\n",
       "      <td>7465</td>\n",
       "      <td>...</td>\n",
       "      <td>488</td>\n",
       "      <td>514</td>\n",
       "      <td>288</td>\n",
       "      <td>277</td>\n",
       "      <td>44</td>\n",
       "      <td>40</td>\n",
       "      <td>18</td>\n",
       "      <td>12</td>\n",
       "      <td>5</td>\n",
       "      <td>3</td>\n",
       "    </tr>\n",
       "    <tr>\n",
       "      <th>2</th>\n",
       "      <td>50</td>\n",
       "      <td>36</td>\n",
       "      <td>1</td>\n",
       "      <td>New York</td>\n",
       "      <td>Albany County</td>\n",
       "      <td>1</td>\n",
       "      <td>2</td>\n",
       "      <td>16131</td>\n",
       "      <td>8224</td>\n",
       "      <td>7907</td>\n",
       "      <td>...</td>\n",
       "      <td>452</td>\n",
       "      <td>443</td>\n",
       "      <td>275</td>\n",
       "      <td>258</td>\n",
       "      <td>31</td>\n",
       "      <td>36</td>\n",
       "      <td>15</td>\n",
       "      <td>11</td>\n",
       "      <td>5</td>\n",
       "      <td>3</td>\n",
       "    </tr>\n",
       "    <tr>\n",
       "      <th>3</th>\n",
       "      <td>50</td>\n",
       "      <td>36</td>\n",
       "      <td>1</td>\n",
       "      <td>New York</td>\n",
       "      <td>Albany County</td>\n",
       "      <td>1</td>\n",
       "      <td>3</td>\n",
       "      <td>17639</td>\n",
       "      <td>9065</td>\n",
       "      <td>8574</td>\n",
       "      <td>...</td>\n",
       "      <td>448</td>\n",
       "      <td>435</td>\n",
       "      <td>230</td>\n",
       "      <td>204</td>\n",
       "      <td>33</td>\n",
       "      <td>28</td>\n",
       "      <td>13</td>\n",
       "      <td>12</td>\n",
       "      <td>2</td>\n",
       "      <td>1</td>\n",
       "    </tr>\n",
       "    <tr>\n",
       "      <th>4</th>\n",
       "      <td>50</td>\n",
       "      <td>36</td>\n",
       "      <td>1</td>\n",
       "      <td>New York</td>\n",
       "      <td>Albany County</td>\n",
       "      <td>1</td>\n",
       "      <td>4</td>\n",
       "      <td>23752</td>\n",
       "      <td>11925</td>\n",
       "      <td>11827</td>\n",
       "      <td>...</td>\n",
       "      <td>632</td>\n",
       "      <td>627</td>\n",
       "      <td>271</td>\n",
       "      <td>283</td>\n",
       "      <td>50</td>\n",
       "      <td>46</td>\n",
       "      <td>16</td>\n",
       "      <td>15</td>\n",
       "      <td>4</td>\n",
       "      <td>6</td>\n",
       "    </tr>\n",
       "  </tbody>\n",
       "</table>\n",
       "<p>5 rows × 80 columns</p>\n",
       "</div>"
      ],
      "text/plain": [
       "   SUMLEV  STATE  COUNTY    STNAME        CTYNAME  YEAR  AGEGRP  TOT_POP  \\\n",
       "0      50     36       1  New York  Albany County     1       0   304204   \n",
       "1      50     36       1  New York  Albany County     1       1    15286   \n",
       "2      50     36       1  New York  Albany County     1       2    16131   \n",
       "3      50     36       1  New York  Albany County     1       3    17639   \n",
       "4      50     36       1  New York  Albany County     1       4    23752   \n",
       "\n",
       "   TOT_MALE  TOT_FEMALE  ...  HWAC_MALE  HWAC_FEMALE  HBAC_MALE  HBAC_FEMALE  \\\n",
       "0    147076      157128  ...       5236         5416       2125         2295   \n",
       "1      7821        7465  ...        488          514        288          277   \n",
       "2      8224        7907  ...        452          443        275          258   \n",
       "3      9065        8574  ...        448          435        230          204   \n",
       "4     11925       11827  ...        632          627        271          283   \n",
       "\n",
       "   HIAC_MALE  HIAC_FEMALE  HAAC_MALE  HAAC_FEMALE  HNAC_MALE  HNAC_FEMALE  \n",
       "0        361          410        139          141         41           41  \n",
       "1         44           40         18           12          5            3  \n",
       "2         31           36         15           11          5            3  \n",
       "3         33           28         13           12          2            1  \n",
       "4         50           46         16           15          4            6  \n",
       "\n",
       "[5 rows x 80 columns]"
      ]
     },
     "execution_count": 137,
     "metadata": {},
     "output_type": "execute_result"
    }
   ],
   "source": [
    "df.head()"
   ]
  },
  {
   "cell_type": "markdown",
   "metadata": {},
   "source": [
    "## Replace Year Code Actual Dates"
   ]
  },
  {
   "cell_type": "markdown",
   "metadata": {},
   "source": [
    "<span style=\"float:left;\">\n",
    "    \n",
    "|YEAR Code|Dates|\n",
    "|:---|:---|\n",
    "|1|4/1/2010 Census population|\n",
    "|2|4/1/2010 population estimates base|\n",
    "|3|7/1/2010 population estimate|\n",
    "|4|7/1/2011 population estimate|\n",
    "|5|7/1/2012 population estimate|\n",
    "|6|7/1/2013 population estimate|\n",
    "|7|7/1/2014 population estimate|\n",
    "|8|7/1/2015 population estimate|\n",
    "|9|7/1/2016 population estimate|\n",
    "|10|7/1/2017 population estimate|\n",
    "|11|7/1/2018 population estimate|"
   ]
  },
  {
   "cell_type": "code",
   "execution_count": 147,
   "metadata": {},
   "outputs": [],
   "source": [
    "# Dropping the population estimate in 2010 and using the Census 2010 data\n",
    "df = df[~((df[\"YEAR\"] ==2) | (df[\"YEAR\"] ==3))]"
   ]
  },
  {
   "cell_type": "code",
   "execution_count": 148,
   "metadata": {},
   "outputs": [
    {
     "data": {
      "text/plain": [
       "array([2010, 2011, 2012, 2013, 2014, 2015, 2016, 2017, 2018])"
      ]
     },
     "execution_count": 148,
     "metadata": {},
     "output_type": "execute_result"
    }
   ],
   "source": [
    "df[\"YEAR\"].unique()"
   ]
  },
  {
   "cell_type": "code",
   "execution_count": 149,
   "metadata": {},
   "outputs": [],
   "source": [
    "dates = { 1:2010,\n",
    "        4:2011,\n",
    "        5:2012,\n",
    "        6:2013,\n",
    "        7:2014,\n",
    "        8:2015,\n",
    "        9:2016,\n",
    "        10:2017,\n",
    "        11:2018}"
   ]
  },
  {
   "cell_type": "code",
   "execution_count": 150,
   "metadata": {},
   "outputs": [],
   "source": [
    "# replace with actual date values\n",
    "df.replace({\"YEAR\": dates}, inplace = True)"
   ]
  },
  {
   "cell_type": "markdown",
   "metadata": {},
   "source": [
    "## Filter for Asian American Demographic"
   ]
  },
  {
   "cell_type": "markdown",
   "metadata": {},
   "source": [
    "<span style=\"float:left;\">\n",
    "\n",
    "|Code|Demographic|\n",
    "|:---|:---|\n",
    "|AAC_MALE|Asian alone or in combination male population|\n",
    "|AAC_FEMALE|Asian alone or in combination female population|"
   ]
  },
  {
   "cell_type": "code",
   "execution_count": 152,
   "metadata": {},
   "outputs": [],
   "source": [
    "# Filter for Summary Level, State Name, County Code, County Name, Year, Age Group, Total Population, and Asian American Male, Asian American Female\n",
    "df = df[[\"SUMLEV\", \"STNAME\", \"COUNTY\", \"CTYNAME\", \"YEAR\", \"AGEGRP\", \"TOT_POP\", \"AAC_MALE\", \"AAC_FEMALE\"]]"
   ]
  },
  {
   "cell_type": "code",
   "execution_count": 153,
   "metadata": {},
   "outputs": [
    {
     "data": {
      "text/plain": [
       "(10602, 9)"
      ]
     },
     "execution_count": 153,
     "metadata": {},
     "output_type": "execute_result"
    }
   ],
   "source": [
    "df.shape"
   ]
  },
  {
   "cell_type": "markdown",
   "metadata": {},
   "source": [
    "## Filter for Ages 50+"
   ]
  },
  {
   "cell_type": "markdown",
   "metadata": {},
   "source": [
    "<span style=\"float:left;\">\n",
    "    \n",
    "|AGEGRP Code|Age|\n",
    "|:---|:---|\n",
    "|0|Total|\n",
    "|1|Age 0 to 4 years|\n",
    "|2|Age 5 to 9 years|\n",
    "|3|Age 10 to 14 years|\n",
    "|4|Age 15 to 19 years|\n",
    "|5|Age 20 to 24 years|\n",
    "|6|Age 25 to 29 years|\n",
    "|7|Age 30 to 34 years|\n",
    "|8|Age 35 to 39 years|\n",
    "|9|Age 40 to 44 years|\n",
    "|10|Age 45 to 49 years|\n",
    "|11|Age 50 to 54 years|\n",
    "|12|Age 55 to 59 years|\n",
    "|13|Age 60 to 64 years|\n",
    "|14|Age 65 to 69 years|\n",
    "|15|Age 70 to 74 years|\n",
    "|16|Age 75 to 79 years|\n",
    "|17|Age 80 to 84 years|\n",
    "|18|Age 85 years or older|"
   ]
  },
  {
   "cell_type": "code",
   "execution_count": 154,
   "metadata": {},
   "outputs": [
    {
     "data": {
      "text/plain": [
       "(4464, 9)"
      ]
     },
     "execution_count": 154,
     "metadata": {},
     "output_type": "execute_result"
    }
   ],
   "source": [
    "# Ages 50+ are marked in AGEGRP Codes 11-18\n",
    "df_seniors = df.loc[df[\"AGEGRP\"] >= 11]\n",
    "df_seniors.shape"
   ]
  },
  {
   "cell_type": "code",
   "execution_count": 155,
   "metadata": {},
   "outputs": [
    {
     "name": "stderr",
     "output_type": "stream",
     "text": [
      "/opt/anaconda3/lib/python3.7/site-packages/ipykernel_launcher.py:2: SettingWithCopyWarning: \n",
      "A value is trying to be set on a copy of a slice from a DataFrame.\n",
      "Try using .loc[row_indexer,col_indexer] = value instead\n",
      "\n",
      "See the caveats in the documentation: http://pandas.pydata.org/pandas-docs/stable/user_guide/indexing.html#returning-a-view-versus-a-copy\n",
      "  \n"
     ]
    }
   ],
   "source": [
    "# Combine Male and Female into category\n",
    "df_seniors[\"AAC\"] = df_seniors[\"AAC_MALE\"] + df_seniors[\"AAC_FEMALE\"] "
   ]
  },
  {
   "cell_type": "code",
   "execution_count": 156,
   "metadata": {},
   "outputs": [
    {
     "data": {
      "text/html": [
       "<div>\n",
       "<style scoped>\n",
       "    .dataframe tbody tr th:only-of-type {\n",
       "        vertical-align: middle;\n",
       "    }\n",
       "\n",
       "    .dataframe tbody tr th {\n",
       "        vertical-align: top;\n",
       "    }\n",
       "\n",
       "    .dataframe thead th {\n",
       "        text-align: right;\n",
       "    }\n",
       "</style>\n",
       "<table border=\"1\" class=\"dataframe\">\n",
       "  <thead>\n",
       "    <tr style=\"text-align: right;\">\n",
       "      <th></th>\n",
       "      <th>SUMLEV</th>\n",
       "      <th>STNAME</th>\n",
       "      <th>COUNTY</th>\n",
       "      <th>CTYNAME</th>\n",
       "      <th>YEAR</th>\n",
       "      <th>AGEGRP</th>\n",
       "      <th>TOT_POP</th>\n",
       "      <th>AAC_MALE</th>\n",
       "      <th>AAC_FEMALE</th>\n",
       "      <th>AAC</th>\n",
       "    </tr>\n",
       "  </thead>\n",
       "  <tbody>\n",
       "    <tr>\n",
       "      <th>11</th>\n",
       "      <td>50</td>\n",
       "      <td>New York</td>\n",
       "      <td>1</td>\n",
       "      <td>Albany County</td>\n",
       "      <td>2010</td>\n",
       "      <td>11</td>\n",
       "      <td>22788</td>\n",
       "      <td>377</td>\n",
       "      <td>376</td>\n",
       "      <td>753</td>\n",
       "    </tr>\n",
       "    <tr>\n",
       "      <th>12</th>\n",
       "      <td>50</td>\n",
       "      <td>New York</td>\n",
       "      <td>1</td>\n",
       "      <td>Albany County</td>\n",
       "      <td>2010</td>\n",
       "      <td>12</td>\n",
       "      <td>21019</td>\n",
       "      <td>286</td>\n",
       "      <td>326</td>\n",
       "      <td>612</td>\n",
       "    </tr>\n",
       "    <tr>\n",
       "      <th>13</th>\n",
       "      <td>50</td>\n",
       "      <td>New York</td>\n",
       "      <td>1</td>\n",
       "      <td>Albany County</td>\n",
       "      <td>2010</td>\n",
       "      <td>13</td>\n",
       "      <td>17881</td>\n",
       "      <td>229</td>\n",
       "      <td>275</td>\n",
       "      <td>504</td>\n",
       "    </tr>\n",
       "    <tr>\n",
       "      <th>14</th>\n",
       "      <td>50</td>\n",
       "      <td>New York</td>\n",
       "      <td>1</td>\n",
       "      <td>Albany County</td>\n",
       "      <td>2010</td>\n",
       "      <td>14</td>\n",
       "      <td>11968</td>\n",
       "      <td>159</td>\n",
       "      <td>187</td>\n",
       "      <td>346</td>\n",
       "    </tr>\n",
       "    <tr>\n",
       "      <th>15</th>\n",
       "      <td>50</td>\n",
       "      <td>New York</td>\n",
       "      <td>1</td>\n",
       "      <td>Albany County</td>\n",
       "      <td>2010</td>\n",
       "      <td>15</td>\n",
       "      <td>8676</td>\n",
       "      <td>124</td>\n",
       "      <td>137</td>\n",
       "      <td>261</td>\n",
       "    </tr>\n",
       "  </tbody>\n",
       "</table>\n",
       "</div>"
      ],
      "text/plain": [
       "    SUMLEV    STNAME  COUNTY        CTYNAME  YEAR  AGEGRP  TOT_POP  AAC_MALE  \\\n",
       "11      50  New York       1  Albany County  2010      11    22788       377   \n",
       "12      50  New York       1  Albany County  2010      12    21019       286   \n",
       "13      50  New York       1  Albany County  2010      13    17881       229   \n",
       "14      50  New York       1  Albany County  2010      14    11968       159   \n",
       "15      50  New York       1  Albany County  2010      15     8676       124   \n",
       "\n",
       "    AAC_FEMALE  AAC  \n",
       "11         376  753  \n",
       "12         326  612  \n",
       "13         275  504  \n",
       "14         187  346  \n",
       "15         137  261  "
      ]
     },
     "execution_count": 156,
     "metadata": {},
     "output_type": "execute_result"
    }
   ],
   "source": [
    "df_seniors.head()"
   ]
  },
  {
   "cell_type": "code",
   "execution_count": 158,
   "metadata": {},
   "outputs": [
    {
     "data": {
      "text/html": [
       "<div>\n",
       "<style scoped>\n",
       "    .dataframe tbody tr th:only-of-type {\n",
       "        vertical-align: middle;\n",
       "    }\n",
       "\n",
       "    .dataframe tbody tr th {\n",
       "        vertical-align: top;\n",
       "    }\n",
       "\n",
       "    .dataframe thead th {\n",
       "        text-align: right;\n",
       "    }\n",
       "</style>\n",
       "<table border=\"1\" class=\"dataframe\">\n",
       "  <thead>\n",
       "    <tr style=\"text-align: right;\">\n",
       "      <th></th>\n",
       "      <th>SUMLEV</th>\n",
       "      <th>COUNTY</th>\n",
       "      <th>AGEGRP</th>\n",
       "      <th>TOT_POP</th>\n",
       "      <th>AAC_MALE</th>\n",
       "      <th>AAC_FEMALE</th>\n",
       "      <th>AAC</th>\n",
       "    </tr>\n",
       "    <tr>\n",
       "      <th>YEAR</th>\n",
       "      <th></th>\n",
       "      <th></th>\n",
       "      <th></th>\n",
       "      <th></th>\n",
       "      <th></th>\n",
       "      <th></th>\n",
       "      <th></th>\n",
       "    </tr>\n",
       "  </thead>\n",
       "  <tbody>\n",
       "    <tr>\n",
       "      <th>2010</th>\n",
       "      <td>24800</td>\n",
       "      <td>30752</td>\n",
       "      <td>7192</td>\n",
       "      <td>6341539</td>\n",
       "      <td>196120</td>\n",
       "      <td>219828</td>\n",
       "      <td>415948</td>\n",
       "    </tr>\n",
       "    <tr>\n",
       "      <th>2011</th>\n",
       "      <td>24800</td>\n",
       "      <td>30752</td>\n",
       "      <td>7192</td>\n",
       "      <td>6498196</td>\n",
       "      <td>207638</td>\n",
       "      <td>233363</td>\n",
       "      <td>441001</td>\n",
       "    </tr>\n",
       "    <tr>\n",
       "      <th>2012</th>\n",
       "      <td>24800</td>\n",
       "      <td>30752</td>\n",
       "      <td>7192</td>\n",
       "      <td>6618968</td>\n",
       "      <td>216961</td>\n",
       "      <td>244320</td>\n",
       "      <td>461281</td>\n",
       "    </tr>\n",
       "    <tr>\n",
       "      <th>2013</th>\n",
       "      <td>24800</td>\n",
       "      <td>30752</td>\n",
       "      <td>7192</td>\n",
       "      <td>6734585</td>\n",
       "      <td>227263</td>\n",
       "      <td>256204</td>\n",
       "      <td>483467</td>\n",
       "    </tr>\n",
       "    <tr>\n",
       "      <th>2014</th>\n",
       "      <td>24800</td>\n",
       "      <td>30752</td>\n",
       "      <td>7192</td>\n",
       "      <td>6848525</td>\n",
       "      <td>237418</td>\n",
       "      <td>268153</td>\n",
       "      <td>505571</td>\n",
       "    </tr>\n",
       "    <tr>\n",
       "      <th>2015</th>\n",
       "      <td>24800</td>\n",
       "      <td>30752</td>\n",
       "      <td>7192</td>\n",
       "      <td>6946205</td>\n",
       "      <td>246928</td>\n",
       "      <td>279552</td>\n",
       "      <td>526480</td>\n",
       "    </tr>\n",
       "    <tr>\n",
       "      <th>2016</th>\n",
       "      <td>24800</td>\n",
       "      <td>30752</td>\n",
       "      <td>7192</td>\n",
       "      <td>7021152</td>\n",
       "      <td>255302</td>\n",
       "      <td>290159</td>\n",
       "      <td>545461</td>\n",
       "    </tr>\n",
       "    <tr>\n",
       "      <th>2017</th>\n",
       "      <td>24800</td>\n",
       "      <td>30752</td>\n",
       "      <td>7192</td>\n",
       "      <td>7077283</td>\n",
       "      <td>262647</td>\n",
       "      <td>299340</td>\n",
       "      <td>561987</td>\n",
       "    </tr>\n",
       "    <tr>\n",
       "      <th>2018</th>\n",
       "      <td>24800</td>\n",
       "      <td>30752</td>\n",
       "      <td>7192</td>\n",
       "      <td>7123270</td>\n",
       "      <td>270178</td>\n",
       "      <td>309092</td>\n",
       "      <td>579270</td>\n",
       "    </tr>\n",
       "  </tbody>\n",
       "</table>\n",
       "</div>"
      ],
      "text/plain": [
       "      SUMLEV  COUNTY  AGEGRP  TOT_POP  AAC_MALE  AAC_FEMALE     AAC\n",
       "YEAR                                                               \n",
       "2010   24800   30752    7192  6341539    196120      219828  415948\n",
       "2011   24800   30752    7192  6498196    207638      233363  441001\n",
       "2012   24800   30752    7192  6618968    216961      244320  461281\n",
       "2013   24800   30752    7192  6734585    227263      256204  483467\n",
       "2014   24800   30752    7192  6848525    237418      268153  505571\n",
       "2015   24800   30752    7192  6946205    246928      279552  526480\n",
       "2016   24800   30752    7192  7021152    255302      290159  545461\n",
       "2017   24800   30752    7192  7077283    262647      299340  561987\n",
       "2018   24800   30752    7192  7123270    270178      309092  579270"
      ]
     },
     "execution_count": 158,
     "metadata": {},
     "output_type": "execute_result"
    }
   ],
   "source": [
    "# Groupby Year Estimate\n",
    "df_seniors.groupby('YEAR').sum()"
   ]
  },
  {
   "cell_type": "markdown",
   "metadata": {},
   "source": [
    "## Filter for New York City"
   ]
  },
  {
   "cell_type": "markdown",
   "metadata": {},
   "source": [
    "New York City belongs to the countires New York, Kings, Bronx, Richmond, Queens"
   ]
  },
  {
   "cell_type": "code",
   "execution_count": 159,
   "metadata": {},
   "outputs": [],
   "source": [
    "nyc = [\"Bronx County\", \"Queens County\", \"New York County\", \"Richmond County\", \"Kings County\"]"
   ]
  },
  {
   "cell_type": "code",
   "execution_count": 160,
   "metadata": {},
   "outputs": [],
   "source": [
    "df_nyc = df_seniors[df_seniors[\"CTYNAME\"].isin(nyc)]"
   ]
  },
  {
   "cell_type": "code",
   "execution_count": 161,
   "metadata": {},
   "outputs": [],
   "source": [
    "# Groupby Year Estimate\n",
    "test = df_nyc.groupby('YEAR').sum()"
   ]
  },
  {
   "cell_type": "code",
   "execution_count": 162,
   "metadata": {},
   "outputs": [],
   "source": [
    "test.reset_index(inplace = True)"
   ]
  },
  {
   "cell_type": "code",
   "execution_count": 163,
   "metadata": {},
   "outputs": [
    {
     "data": {
      "text/html": [
       "<div>\n",
       "<style scoped>\n",
       "    .dataframe tbody tr th:only-of-type {\n",
       "        vertical-align: middle;\n",
       "    }\n",
       "\n",
       "    .dataframe tbody tr th {\n",
       "        vertical-align: top;\n",
       "    }\n",
       "\n",
       "    .dataframe thead th {\n",
       "        text-align: right;\n",
       "    }\n",
       "</style>\n",
       "<table border=\"1\" class=\"dataframe\">\n",
       "  <thead>\n",
       "    <tr style=\"text-align: right;\">\n",
       "      <th></th>\n",
       "      <th>YEAR</th>\n",
       "      <th>SUMLEV</th>\n",
       "      <th>COUNTY</th>\n",
       "      <th>AGEGRP</th>\n",
       "      <th>TOT_POP</th>\n",
       "      <th>AAC_MALE</th>\n",
       "      <th>AAC_FEMALE</th>\n",
       "      <th>AAC</th>\n",
       "    </tr>\n",
       "  </thead>\n",
       "  <tbody>\n",
       "    <tr>\n",
       "      <th>0</th>\n",
       "      <td>2010</td>\n",
       "      <td>2000</td>\n",
       "      <td>2232</td>\n",
       "      <td>580</td>\n",
       "      <td>2424854</td>\n",
       "      <td>148080</td>\n",
       "      <td>165854</td>\n",
       "      <td>313934</td>\n",
       "    </tr>\n",
       "    <tr>\n",
       "      <th>1</th>\n",
       "      <td>2011</td>\n",
       "      <td>2000</td>\n",
       "      <td>2232</td>\n",
       "      <td>580</td>\n",
       "      <td>2491651</td>\n",
       "      <td>156316</td>\n",
       "      <td>175662</td>\n",
       "      <td>331978</td>\n",
       "    </tr>\n",
       "    <tr>\n",
       "      <th>2</th>\n",
       "      <td>2012</td>\n",
       "      <td>2000</td>\n",
       "      <td>2232</td>\n",
       "      <td>580</td>\n",
       "      <td>2544727</td>\n",
       "      <td>163231</td>\n",
       "      <td>183666</td>\n",
       "      <td>346897</td>\n",
       "    </tr>\n",
       "    <tr>\n",
       "      <th>3</th>\n",
       "      <td>2013</td>\n",
       "      <td>2000</td>\n",
       "      <td>2232</td>\n",
       "      <td>580</td>\n",
       "      <td>2595933</td>\n",
       "      <td>170963</td>\n",
       "      <td>192688</td>\n",
       "      <td>363651</td>\n",
       "    </tr>\n",
       "    <tr>\n",
       "      <th>4</th>\n",
       "      <td>2014</td>\n",
       "      <td>2000</td>\n",
       "      <td>2232</td>\n",
       "      <td>580</td>\n",
       "      <td>2647364</td>\n",
       "      <td>178577</td>\n",
       "      <td>201677</td>\n",
       "      <td>380254</td>\n",
       "    </tr>\n",
       "    <tr>\n",
       "      <th>5</th>\n",
       "      <td>2015</td>\n",
       "      <td>2000</td>\n",
       "      <td>2232</td>\n",
       "      <td>580</td>\n",
       "      <td>2694859</td>\n",
       "      <td>185604</td>\n",
       "      <td>210098</td>\n",
       "      <td>395702</td>\n",
       "    </tr>\n",
       "    <tr>\n",
       "      <th>6</th>\n",
       "      <td>2016</td>\n",
       "      <td>2000</td>\n",
       "      <td>2232</td>\n",
       "      <td>580</td>\n",
       "      <td>2731527</td>\n",
       "      <td>191619</td>\n",
       "      <td>217734</td>\n",
       "      <td>409353</td>\n",
       "    </tr>\n",
       "    <tr>\n",
       "      <th>7</th>\n",
       "      <td>2017</td>\n",
       "      <td>2000</td>\n",
       "      <td>2232</td>\n",
       "      <td>580</td>\n",
       "      <td>2754461</td>\n",
       "      <td>196674</td>\n",
       "      <td>224206</td>\n",
       "      <td>420880</td>\n",
       "    </tr>\n",
       "    <tr>\n",
       "      <th>8</th>\n",
       "      <td>2018</td>\n",
       "      <td>2000</td>\n",
       "      <td>2232</td>\n",
       "      <td>580</td>\n",
       "      <td>2773134</td>\n",
       "      <td>201561</td>\n",
       "      <td>230770</td>\n",
       "      <td>432331</td>\n",
       "    </tr>\n",
       "  </tbody>\n",
       "</table>\n",
       "</div>"
      ],
      "text/plain": [
       "   YEAR  SUMLEV  COUNTY  AGEGRP  TOT_POP  AAC_MALE  AAC_FEMALE     AAC\n",
       "0  2010    2000    2232     580  2424854    148080      165854  313934\n",
       "1  2011    2000    2232     580  2491651    156316      175662  331978\n",
       "2  2012    2000    2232     580  2544727    163231      183666  346897\n",
       "3  2013    2000    2232     580  2595933    170963      192688  363651\n",
       "4  2014    2000    2232     580  2647364    178577      201677  380254\n",
       "5  2015    2000    2232     580  2694859    185604      210098  395702\n",
       "6  2016    2000    2232     580  2731527    191619      217734  409353\n",
       "7  2017    2000    2232     580  2754461    196674      224206  420880\n",
       "8  2018    2000    2232     580  2773134    201561      230770  432331"
      ]
     },
     "execution_count": 163,
     "metadata": {},
     "output_type": "execute_result"
    }
   ],
   "source": [
    "test"
   ]
  }
 ],
 "metadata": {
  "kernelspec": {
   "display_name": "Python 3",
   "language": "python",
   "name": "python3"
  },
  "language_info": {
   "codemirror_mode": {
    "name": "ipython",
    "version": 3
   },
   "file_extension": ".py",
   "mimetype": "text/x-python",
   "name": "python",
   "nbconvert_exporter": "python",
   "pygments_lexer": "ipython3",
   "version": "3.7.4"
  }
 },
 "nbformat": 4,
 "nbformat_minor": 2
}
